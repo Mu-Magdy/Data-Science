{
 "cells": [
  {
   "cell_type": "markdown",
   "metadata": {},
   "source": [
    "Stock price prediction \n",
    "you can get the dataset from yahoo finance. search for a company and download its data"
   ]
  },
  {
   "cell_type": "code",
   "execution_count": 12,
   "metadata": {},
   "outputs": [],
   "source": [
    "import numpy as np \n",
    "import pandas as pd \n",
    "from sklearn import preprocessing\n",
    "from sklearn.model_selection import train_test_split\n",
    "from sklearn.linear_model import LinearRegression"
   ]
  },
  {
   "cell_type": "code",
   "execution_count": 13,
   "metadata": {},
   "outputs": [],
   "source": [
    "def prepare_data(df,forecast_col, forecast_out,test_size):\n",
    "    label=df[forecast_col].shift(-forecast_out)\n",
    "    X=np.array(df[[forecast_col]])\n",
    "    X=preprocessing.scale(X)\n",
    "    X_lately =X[-forecast_out:]\n",
    "    X= X[:-forecast_out]\n",
    "    label.dropna(inplace=True)\n",
    "    y=np.array(label)\n",
    "    X_train,X_test,Y_train,Y_test= train_test_split(X,y,test_size=test_size,random_state=0)\n",
    "\n",
    "    response=[X_train,X_test,Y_train,Y_test,X_lately]\n",
    "    return response"
   ]
  },
  {
   "cell_type": "code",
   "execution_count": 14,
   "metadata": {},
   "outputs": [],
   "source": [
    "df=pd.read_csv('prices.csv')\n"
   ]
  },
  {
   "cell_type": "code",
   "execution_count": 15,
   "metadata": {},
   "outputs": [],
   "source": [
    "forecast_col='Close'\n",
    "forecast_out=5\n",
    "test_size=0.2"
   ]
  },
  {
   "cell_type": "code",
   "execution_count": 16,
   "metadata": {},
   "outputs": [],
   "source": [
    "X_train,X_test,Y_train,Y_test,X_lately=prepare_data(df,forecast_col,forecast_out,test_size)\n"
   ]
  },
  {
   "cell_type": "code",
   "execution_count": 17,
   "metadata": {},
   "outputs": [
    {
     "data": {
      "text/plain": [
       "LinearRegression()"
      ]
     },
     "execution_count": 17,
     "metadata": {},
     "output_type": "execute_result"
    }
   ],
   "source": [
    "learner=LinearRegression()\n",
    "learner.fit(X_train,Y_train)"
   ]
  },
  {
   "cell_type": "code",
   "execution_count": 18,
   "metadata": {},
   "outputs": [
    {
     "name": "stdout",
     "output_type": "stream",
     "text": [
      "{'test_score': 0.867250285355633, 'forecast_set': array([22876.97977722, 23775.85208241, 23737.2198858 , 23591.14489414,\n",
      "       23726.45753768])}\n"
     ]
    }
   ],
   "source": [
    "score=learner.score(X_test,Y_test)\n",
    "forecast=learner.predict(X_lately)\n",
    "response={}\n",
    "response['test_score']=score\n",
    "response['forecast_set']=forecast\n",
    "print(response)"
   ]
  },
  {
   "cell_type": "code",
   "execution_count": null,
   "metadata": {},
   "outputs": [],
   "source": []
  }
 ],
 "metadata": {
  "kernelspec": {
   "display_name": "Python 3.9.6 64-bit",
   "language": "python",
   "name": "python3"
  },
  "language_info": {
   "codemirror_mode": {
    "name": "ipython",
    "version": 3
   },
   "file_extension": ".py",
   "mimetype": "text/x-python",
   "name": "python",
   "nbconvert_exporter": "python",
   "pygments_lexer": "ipython3",
   "version": "3.9.6"
  },
  "orig_nbformat": 4,
  "vscode": {
   "interpreter": {
    "hash": "bf4fbbcfb44b62809ee9ef976aff62d8f85ac4ea82e40788fda9594addf376e6"
   }
  }
 },
 "nbformat": 4,
 "nbformat_minor": 2
}
