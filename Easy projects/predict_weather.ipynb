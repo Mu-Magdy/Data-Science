{
 "cells": [
  {
   "cell_type": "code",
   "execution_count": 15,
   "metadata": {},
   "outputs": [],
   "source": [
    "import pandas as pd\n",
    "import seaborn as sns \n",
    "import matplotlib.pyplot as plt\n",
    "from datetime import datetime as dt\n"
   ]
  },
  {
   "cell_type": "code",
   "execution_count": 21,
   "metadata": {},
   "outputs": [
    {
     "name": "stdout",
     "output_type": "stream",
     "text": [
      "(3192, 9)\n",
      "Index(['dt', 'LandAverageTemperature', 'LandAverageTemperatureUncertainty',\n",
      "       'LandMaxTemperature', 'LandMaxTemperatureUncertainty',\n",
      "       'LandMinTemperature', 'LandMinTemperatureUncertainty',\n",
      "       'LandAndOceanAverageTemperature',\n",
      "       'LandAndOceanAverageTemperatureUncertainty'],\n",
      "      dtype='object')\n",
      "<class 'pandas.core.frame.DataFrame'>\n",
      "RangeIndex: 3192 entries, 0 to 3191\n",
      "Data columns (total 9 columns):\n",
      " #   Column                                     Non-Null Count  Dtype  \n",
      "---  ------                                     --------------  -----  \n",
      " 0   dt                                         3192 non-null   object \n",
      " 1   LandAverageTemperature                     3180 non-null   float64\n",
      " 2   LandAverageTemperatureUncertainty          3180 non-null   float64\n",
      " 3   LandMaxTemperature                         1992 non-null   float64\n",
      " 4   LandMaxTemperatureUncertainty              1992 non-null   float64\n",
      " 5   LandMinTemperature                         1992 non-null   float64\n",
      " 6   LandMinTemperatureUncertainty              1992 non-null   float64\n",
      " 7   LandAndOceanAverageTemperature             1992 non-null   float64\n",
      " 8   LandAndOceanAverageTemperatureUncertainty  1992 non-null   float64\n",
      "dtypes: float64(8), object(1)\n",
      "memory usage: 224.6+ KB\n",
      "None\n",
      "dt                                              0\n",
      "LandAverageTemperature                         12\n",
      "LandAverageTemperatureUncertainty              12\n",
      "LandMaxTemperature                           1200\n",
      "LandMaxTemperatureUncertainty                1200\n",
      "LandMinTemperature                           1200\n",
      "LandMinTemperatureUncertainty                1200\n",
      "LandAndOceanAverageTemperature               1200\n",
      "LandAndOceanAverageTemperatureUncertainty    1200\n",
      "dtype: int64\n"
     ]
    }
   ],
   "source": [
    "global_temp=pd.read_csv('GlobalTemperatures.csv')\n",
    "print(global_temp.shape)\n",
    "print(global_temp.columns)\n",
    "print(global_temp.info())\n",
    "print(global_temp.isnull().sum())"
   ]
  },
  {
   "cell_type": "code",
   "execution_count": null,
   "metadata": {},
   "outputs": [],
   "source": []
  },
  {
   "cell_type": "code",
   "execution_count": 27,
   "metadata": {},
   "outputs": [
    {
     "name": "stdout",
     "output_type": "stream",
     "text": [
      "      LandAverageTemperature  LandMaxTemperature  LandMinTemperature  \\\n",
      "Year                                                                   \n",
      "1850                 33.3482             46.8356             26.2292   \n",
      "1850                 37.5278             49.9460             27.8762   \n",
      "1850                 40.9172             50.6246             28.5710   \n",
      "1850                 44.9906             55.2812             33.8324   \n",
      "1850                 50.0072             60.1790             38.8598   \n",
      "\n",
      "      LandAndOceanAverageTemperature  \n",
      "Year                                  \n",
      "1850                         55.0994  \n",
      "1850                         56.4584  \n",
      "1850                         57.2774  \n",
      "1850                         58.4006  \n",
      "1850                         59.9126  \n"
     ]
    }
   ],
   "source": [
    "def wrangle(df):\n",
    "    df=df.copy()\n",
    "    df=df.drop(columns=[\"LandAverageTemperatureUncertainty\",\"LandMaxTemperatureUncertainty\",\"LandMinTemperatureUncertainty\", \"LandAndOceanAverageTemperatureUncertainty\"], axis=1)\n",
    "    def converttemp(x):\n",
    "        x= (x*1.8)+ 32\n",
    "        return float(x)\n",
    "\n",
    "    df[\"LandAverageTemperature\"]=df['LandAverageTemperature'].apply(converttemp)\n",
    "    df['LandMaxTemperature']=df['LandMaxTemperature'].apply(converttemp)\n",
    "    df['LandMinTemperature']=df['LandMinTemperature'].apply(converttemp)\n",
    "    df['LandAndOceanAverageTemperature']=df['LandAndOceanAverageTemperature'].apply(converttemp)\n",
    "    df['dt']=pd.to_datetime(df['dt'])\n",
    "    df['Month']=df['dt'].dt.month\n",
    "    df['Year']=df['dt'].dt.year\n",
    "    df=df.drop('dt',axis=1)\n",
    "    df = df.drop(\"Month\", axis=1)\n",
    "    #df = df[df.Year &gt;= 1850]\n",
    "    df = df.set_index([\"Year\"])\n",
    "    df = df.dropna()\n",
    "    return df\n",
    "\n",
    "global_temp=wrangle(global_temp)\n",
    "print(global_temp.head())\n",
    "\n",
    "\n",
    "\n"
   ]
  },
  {
   "cell_type": "code",
   "execution_count": 28,
   "metadata": {},
   "outputs": [
    {
     "data": {
      "image/png": "[encoded data removed]",
      "text/plain": [
       "<Figure size 432x288 with 2 Axes>"
      ]
     },
     "metadata": {
      "needs_background": "light"
     },
     "output_type": "display_data"
    }
   ],
   "source": [
    "\n",
    "corrMatrix = global_temp.corr()\n",
    "sns.heatmap(corrMatrix, annot=True)\n",
    "plt.show()"
   ]
  },
  {
   "cell_type": "code",
   "execution_count": 29,
   "metadata": {},
   "outputs": [],
   "source": [
    "target ='LandAndOceanAverageTemperature'\n",
    "y=global_temp[target]\n",
    "x=global_temp[['LandAverageTemperature','LandMaxTemperature',\"LandMinTemperature\"]]"
   ]
  },
  {
   "cell_type": "code",
   "execution_count": 37,
   "metadata": {},
   "outputs": [
    {
     "name": "stdout",
     "output_type": "stream",
     "text": [
      "(1494, 3)\n",
      "(498, 3)\n",
      "(1494,)\n",
      "(498,)\n"
     ]
    }
   ],
   "source": [
    "from sklearn.model_selection import train_test_split\n",
    "xtrain, xval, ytrain, yval = train_test_split(x, y, test_size=0.25, random_state=42)\n",
    "print(xtrain.shape)\n",
    "print(xval.shape)\n",
    "print(ytrain.shape)\n",
    "print(yval.shape)"
   ]
  },
  {
   "cell_type": "code",
   "execution_count": 50,
   "metadata": {},
   "outputs": [
    {
     "name": "stdout",
     "output_type": "stream",
     "text": [
      "Baseline MAE:  5.14262\n"
     ]
    }
   ],
   "source": [
    "from sklearn.metrics import mean_squared_error\n",
    "ypred = [yval.mean()] * len(yval)\n",
    "print(\"Baseline MAE: \", round(mean_squared_error(yval, ypred), 5))\n"
   ]
  },
  {
   "cell_type": "code",
   "execution_count": 43,
   "metadata": {},
   "outputs": [
    {
     "data": {
      "text/plain": [
       "Pipeline(steps=[('selectkbest', SelectKBest(k='all')),\n",
       "                ('standardscaler', StandardScaler()),\n",
       "                ('randomforestregressor',\n",
       "                 RandomForestRegressor(max_depth=50, n_jobs=-1,\n",
       "                                       random_state=77))])"
      ]
     },
     "execution_count": 43,
     "metadata": {},
     "output_type": "execute_result"
    }
   ],
   "source": [
    "from sklearn.feature_selection import SelectKBest\n",
    "from sklearn.ensemble import RandomForestRegressor\n",
    "from sklearn.preprocessing import StandardScaler\n",
    "from sklearn.pipeline import make_pipeline\n",
    "\n",
    "forest = make_pipeline(\n",
    "    SelectKBest(k=\"all\"),\n",
    "    StandardScaler(),\n",
    "    RandomForestRegressor(\n",
    "        n_estimators=100,\n",
    "        max_depth=50,\n",
    "        random_state=77,\n",
    "        n_jobs=-1\n",
    "    )\n",
    ")\n",
    "\n",
    "forest.fit(xtrain, ytrain)"
   ]
  },
  {
   "cell_type": "code",
   "execution_count": 51,
   "metadata": {},
   "outputs": [
    {
     "name": "stdout",
     "output_type": "stream",
     "text": [
      "Random forest model:  96.61 %\n"
     ]
    }
   ],
   "source": [
    "import numpy as np\n",
    "errors=abs(ypred-yval)\n",
    "mape=100*(errors/ytrain)\n",
    "accuracy=100-np.mean(mape)\n",
    "print(\"Random forest model: \", round(accuracy,2),'%')"
   ]
  },
  {
   "cell_type": "code",
   "execution_count": null,
   "metadata": {},
   "outputs": [],
   "source": []
  }
 ],
 "metadata": {
  "kernelspec": {
   "display_name": "Python 3.9.6 64-bit",
   "language": "python",
   "name": "python3"
  },
  "language_info": {
   "codemirror_mode": {
    "name": "ipython",
    "version": 3
   },
   "file_extension": ".py",
   "mimetype": "text/x-python",
   "name": "python",
   "nbconvert_exporter": "python",
   "pygments_lexer": "ipython3",
   "version": "3.9.6"
  },
  "orig_nbformat": 4,
  "vscode": {
   "interpreter": {
    "hash": "bf4fbbcfb44b62809ee9ef976aff62d8f85ac4ea82e40788fda9594addf376e6"
   }
  }
 },
 "nbformat": 4,
 "nbformat_minor": 2
}
