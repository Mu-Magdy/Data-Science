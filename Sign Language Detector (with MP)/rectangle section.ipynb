{
 "cells": [
  {
   "cell_type": "code",
   "execution_count": 1,
   "id": "06b5ad0b",
   "metadata": {},
   "outputs": [],
   "source": [
    "import cv2\n",
    "import numpy as np"
   ]
  },
  {
   "cell_type": "code",
   "execution_count": 11,
   "id": "bfef8d35",
   "metadata": {},
   "outputs": [],
   "source": [
    "\n",
    "\n",
    "draw = False\n",
    "lx,ly=-1,-1\n",
    "\n",
    "def rectangle_shape(event,x,y,flagval,par):\n",
    "    global draw,lx,ly\n",
    "    if event == cv2.EVENT_LBUTTONDOWN:\n",
    "        draw=True\n",
    "        lx,ly=x,y\n",
    "        \n",
    "    elif event==cv2.EVENT_MOUSEMOVE:\n",
    "        if draw==True:\n",
    "            cv2.rectangle(image_window,(lx,ly),(x,y),(0,155,0),-1)\n",
    "            \n",
    "    elif event ==cv2.EVENT_LBUTTONUP:\n",
    "        draw=False\n",
    "        cv2.rectangle(image_window,(lx,ly),(x,y),(0,155,0),-1)\n",
    "\n",
    "image_window=np.zeros((1024,1024,3),np.uint8)\n",
    "\n",
    "cv2.namedWindow(winname=\"Image_Window\")\n",
    "\n",
    "cv2.setMouseCallback(\"Image_Window\",rectangle_shape)\n",
    "\n",
    "while True:\n",
    "    cv2.imshow(\"Image_Window\",image_window)\n",
    "    if cv2.waitKey(1) & 0xFF==ord('q'):\n",
    "        break\n",
    "\n",
    "        \n",
    "cv2.destroyAllWindows()"
   ]
  },
  {
   "cell_type": "code",
   "execution_count": 9,
   "id": "b3e39a20",
   "metadata": {},
   "outputs": [],
   "source": []
  },
  {
   "cell_type": "code",
   "execution_count": null,
   "id": "4903c907",
   "metadata": {},
   "outputs": [],
   "source": []
  }
 ],
 "metadata": {
  "kernelspec": {
   "display_name": "Python 3 (ipykernel)",
   "language": "python",
   "name": "python3"
  },
  "language_info": {
   "codemirror_mode": {
    "name": "ipython",
    "version": 3
   },
   "file_extension": ".py",
   "mimetype": "text/x-python",
   "name": "python",
   "nbconvert_exporter": "python",
   "pygments_lexer": "ipython3",
   "version": "3.9.6"
  }
 },
 "nbformat": 4,
 "nbformat_minor": 5
}
